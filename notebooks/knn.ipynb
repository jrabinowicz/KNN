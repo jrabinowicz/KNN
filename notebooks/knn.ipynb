{
 "cells": [
  {
   "cell_type": "markdown",
   "metadata": {},
   "source": [
    "# Sentiment Analysis con KNN\n",
    "## Clasificador en C++ 💪💪\n",
    "Vamos a probar a nuestro bichito\n"
   ]
  },
  {
   "cell_type": "markdown",
   "metadata": {},
   "source": [
    "Definir los path al ejecutable de python 3.6 y sus librerías,\n",
    "de acuerdo al virtual env que estén corriendo."
   ]
  },
  {
   "cell_type": "code",
   "execution_count": 1,
   "metadata": {},
   "outputs": [
    {
     "name": "stdout",
     "output_type": "stream",
     "text": [
      "mkdir: cannot create directory ‘build’: File exists\n",
      "-- The C compiler identification is GNU 7.4.0\n",
      "-- The CXX compiler identification is GNU 7.4.0\n",
      "-- Check for working C compiler: /usr/bin/cc\n",
      "-- Check for working C compiler: /usr/bin/cc -- works\n",
      "-- Detecting C compiler ABI info\n",
      "-- Detecting C compiler ABI info - done\n",
      "-- Detecting C compile features\n",
      "-- Detecting C compile features - done\n",
      "-- Check for working CXX compiler: /usr/bin/c++\n",
      "-- Check for working CXX compiler: /usr/bin/c++ -- works\n",
      "-- Detecting CXX compiler ABI info\n",
      "-- Detecting CXX compiler ABI info - done\n",
      "-- Detecting CXX compile features\n",
      "-- Detecting CXX compile features - done\n",
      "Release mode\n",
      "-- Found PythonInterp: /mnt/d/001.Maca/Metnum/TP2/tp2/bin/python (found version \"3.6.8\") \n",
      "-- Found PythonLibs: /usr/lib/x86_64-linux-gnu/libpython3.6m.so\n",
      "-- pybind11 v2.3.dev0\n",
      "-- Performing Test HAS_FLTO\n",
      "-- Performing Test HAS_FLTO - Success\n",
      "-- LTO enabled\n",
      "CMAKE_INSTALL_PREFIX=/mnt/d/001.Maca/Metnum/TP2\n",
      "-- Configuring done\n",
      "-- Generating done\n",
      "-- Build files have been written to: /mnt/d/001.Maca/Metnum/TP2/build\n",
      "\u001b[35m\u001b[1mScanning dependencies of target tp2\u001b[0m\n",
      "[ 10%] \u001b[32mBuilding CXX object CMakeFiles/tp2.dir/src/main.cpp.o\u001b[0m\n",
      "[ 20%] \u001b[32mBuilding CXX object CMakeFiles/tp2.dir/src/knn.cpp.o\u001b[0m\n",
      "[ 30%] \u001b[32mBuilding CXX object CMakeFiles/tp2.dir/src/pca.cpp.o\u001b[0m\n",
      "[ 40%] \u001b[32mBuilding CXX object CMakeFiles/tp2.dir/src/eigen.cpp.o\u001b[0m\n",
      "[ 50%] \u001b[32m\u001b[1mLinking CXX executable tp2\u001b[0m\n",
      "[ 50%] Built target tp2\n",
      "\u001b[35m\u001b[1mScanning dependencies of target sentiment\u001b[0m\n",
      "[ 60%] \u001b[32mBuilding CXX object CMakeFiles/sentiment.dir/src/sentiment.cpp.o\u001b[0m\n",
      "[ 70%] \u001b[32mBuilding CXX object CMakeFiles/sentiment.dir/src/knn.cpp.o\u001b[0m\n",
      "[ 80%] \u001b[32mBuilding CXX object CMakeFiles/sentiment.dir/src/pca.cpp.o\u001b[0m\n",
      "[ 90%] \u001b[32mBuilding CXX object CMakeFiles/sentiment.dir/src/eigen.cpp.o\u001b[0m\n",
      "[100%] \u001b[32m\u001b[1mLinking CXX shared module sentiment.cpython-36m-x86_64-linux-gnu.so\u001b[0m\n",
      "[100%] Built target sentiment\n",
      "\u001b[36mInstall the project...\u001b[0m\n",
      "-- Install configuration: \"Release\"\n",
      "-- Installing: /mnt/d/001.Maca/Metnum/TP2/notebooks/sentiment.cpython-36m-x86_64-linux-gnu.so\n"
     ]
    }
   ],
   "source": [
    "!cd .. && git submodule init\n",
    "!cd .. && git submodule update\n",
    "!cd .. && mkdir build\n",
    "!cd ../build/ && rm -rf *\n",
    "!cd ../build && cmake \\\n",
    "  -DPYTHON_EXECUTABLE=\"$(which python)\" \\\n",
    "  -DCMAKE_BUILD_TYPE=Release ..\n",
    "!cd ../build && make install"
   ]
  },
  {
   "cell_type": "code",
   "execution_count": 1,
   "metadata": {},
   "outputs": [
    {
     "name": "stdout",
     "output_type": "stream",
     "text": [
      "/mnt/d/001.Maca/Metnum/TP2/notebooks\n",
      "Python 3.6.8\n"
     ]
    }
   ],
   "source": [
    "# Verifico la correcta instalación. Si no falla el import está OK\n",
    "!pwd\n",
    "!python --version\n",
    "import sentiment\n"
   ]
  },
  {
   "cell_type": "code",
   "execution_count": 2,
   "metadata": {},
   "outputs": [
    {
     "name": "stdout",
     "output_type": "stream",
     "text": [
      "tar: *.tgz: Cannot open: No such file or directory\n",
      "tar: Error is not recoverable: exiting now\n",
      "tar: *.tar.gz: Cannot open: No such file or directory\n",
      "tar: Error is not recoverable: exiting now\n",
      "Cantidad de documentos: 12500\n"
     ]
    }
   ],
   "source": [
    "%load_ext autoreload\n",
    "%autoreload 2\n",
    "import pandas as pd\n",
    "\n",
    "!cd ../data && tar -xvf *.tgz\n",
    "!cd ../data && tar -xvf *.tar.gz\n",
    "\n",
    "df = pd.read_csv(\"../data/imdb_small.csv\", index_col=0)\n",
    "\n",
    "print(\"Cantidad de documentos: {}\".format(df.shape[0]))"
   ]
  },
  {
   "cell_type": "code",
   "execution_count": 3,
   "metadata": {},
   "outputs": [
    {
     "data": {
      "text/html": [
       "<div>\n",
       "<style scoped>\n",
       "    .dataframe tbody tr th:only-of-type {\n",
       "        vertical-align: middle;\n",
       "    }\n",
       "\n",
       "    .dataframe tbody tr th {\n",
       "        vertical-align: top;\n",
       "    }\n",
       "\n",
       "    .dataframe thead th {\n",
       "        text-align: right;\n",
       "    }\n",
       "</style>\n",
       "<table border=\"1\" class=\"dataframe\">\n",
       "  <thead>\n",
       "    <tr style=\"text-align: right;\">\n",
       "      <th></th>\n",
       "      <th>type</th>\n",
       "      <th>review</th>\n",
       "      <th>label</th>\n",
       "      <th>file</th>\n",
       "    </tr>\n",
       "  </thead>\n",
       "  <tbody>\n",
       "    <tr>\n",
       "      <td>count</td>\n",
       "      <td>12500</td>\n",
       "      <td>12500</td>\n",
       "      <td>12500</td>\n",
       "      <td>12500</td>\n",
       "    </tr>\n",
       "    <tr>\n",
       "      <td>unique</td>\n",
       "      <td>2</td>\n",
       "      <td>12469</td>\n",
       "      <td>2</td>\n",
       "      <td>12085</td>\n",
       "    </tr>\n",
       "    <tr>\n",
       "      <td>top</td>\n",
       "      <td>test</td>\n",
       "      <td>I got interested in this movie because somebod...</td>\n",
       "      <td>neg</td>\n",
       "      <td>2655_3.txt</td>\n",
       "    </tr>\n",
       "    <tr>\n",
       "      <td>freq</td>\n",
       "      <td>6275</td>\n",
       "      <td>2</td>\n",
       "      <td>6322</td>\n",
       "      <td>2</td>\n",
       "    </tr>\n",
       "  </tbody>\n",
       "</table>\n",
       "</div>"
      ],
      "text/plain": [
       "         type                                             review  label  \\\n",
       "count   12500                                              12500  12500   \n",
       "unique      2                                              12469      2   \n",
       "top      test  I got interested in this movie because somebod...    neg   \n",
       "freq     6275                                                  2   6322   \n",
       "\n",
       "              file  \n",
       "count        12500  \n",
       "unique       12085  \n",
       "top     2655_3.txt  \n",
       "freq             2  "
      ]
     },
     "execution_count": 3,
     "metadata": {},
     "output_type": "execute_result"
    }
   ],
   "source": [
    "df.describe()"
   ]
  },
  {
   "cell_type": "code",
   "execution_count": 4,
   "metadata": {},
   "outputs": [
    {
     "name": "stdout",
     "output_type": "stream",
     "text": [
      "Cantidad de instancias de entrenamiento = 1000\n",
      "Cantidad de instancias de test = 500\n"
     ]
    }
   ],
   "source": [
    "text_train = (df[df.type == 'train'][\"review\"])[:1000]\n",
    "label_train = (df[df.type == 'train'][\"label\"])[:1000]\n",
    "\n",
    "text_test = (df[df.type == 'test'][\"review\"])[:500]\n",
    "label_test = (df[df.type == 'test'][\"label\"])[:500]\n",
    "\n",
    "print(\"Cantidad de instancias de entrenamiento = {}\".format(len(text_train)))\n",
    "print(\"Cantidad de instancias de test = {}\".format(len(text_test)))\n"
   ]
  },
  {
   "cell_type": "code",
   "execution_count": 5,
   "metadata": {},
   "outputs": [
    {
     "name": "stdout",
     "output_type": "stream",
     "text": [
      "Class balance : 0.512 pos 0.488 neg\n"
     ]
    }
   ],
   "source": [
    "print(\"Class balance : {} pos {} neg\".format(\n",
    "    (label_train == 'pos').sum() / label_train.shape[0], \n",
    "    (label_train == 'neg').sum() / label_train.shape[0]\n",
    "))"
   ]
  },
  {
   "cell_type": "code",
   "execution_count": 6,
   "metadata": {},
   "outputs": [],
   "source": [
    "from sklearn.feature_extraction.text import CountVectorizer\n",
    "\n",
    "vectorizer = CountVectorizer(max_df=0.90, min_df=0.01, max_features=5000)\n",
    "\n",
    "vectorizer.fit(text_train)\n",
    "\n",
    "X_train, y_train = vectorizer.transform(text_train), (label_train == 'pos').values\n",
    "X_test, y_test = vectorizer.transform(text_test), (label_test == 'pos').values"
   ]
  },
  {
   "cell_type": "code",
   "execution_count": 9,
   "metadata": {},
   "outputs": [
    {
     "ename": "NameError",
     "evalue": "name 'X_train' is not defined",
     "output_type": "error",
     "traceback": [
      "\u001b[0;31m---------------------------------------------------------------------------\u001b[0m",
      "\u001b[0;31mNameError\u001b[0m                                 Traceback (most recent call last)",
      "\u001b[0;32m<ipython-input-9-c4a159026c83>\u001b[0m in \u001b[0;36m<module>\u001b[0;34m\u001b[0m\n\u001b[1;32m      3\u001b[0m \u001b[0mclf\u001b[0m \u001b[0;34m=\u001b[0m \u001b[0msentiment\u001b[0m\u001b[0;34m.\u001b[0m\u001b[0mKNNClassifier\u001b[0m\u001b[0;34m(\u001b[0m\u001b[0;36m100\u001b[0m\u001b[0;34m)\u001b[0m\u001b[0;34m\u001b[0m\u001b[0;34m\u001b[0m\u001b[0m\n\u001b[1;32m      4\u001b[0m \u001b[0;34m\u001b[0m\u001b[0m\n\u001b[0;32m----> 5\u001b[0;31m \u001b[0mclf\u001b[0m\u001b[0;34m.\u001b[0m\u001b[0mfit\u001b[0m\u001b[0;34m(\u001b[0m\u001b[0mX_train\u001b[0m\u001b[0;34m,\u001b[0m \u001b[0my_train\u001b[0m\u001b[0;34m)\u001b[0m\u001b[0;34m\u001b[0m\u001b[0;34m\u001b[0m\u001b[0m\n\u001b[0m",
      "\u001b[0;31mNameError\u001b[0m: name 'X_train' is not defined"
     ]
    }
   ],
   "source": [
    "import sentiment\n",
    "\n",
    "clf = sentiment.KNNClassifier(100)\n",
    "\n",
    "clf.fit(X_train, y_train)\n"
   ]
  },
  {
   "cell_type": "code",
   "execution_count": 8,
   "metadata": {},
   "outputs": [
    {
     "name": "stdout",
     "output_type": "stream",
     "text": [
      "Accuracy: 0.572\n",
      "CPU times: user 7.61 s, sys: 12.5 s, total: 20.1 s\n",
      "Wall time: 36.5 s\n"
     ]
    }
   ],
   "source": [
    "%%time\n",
    "from sklearn.metrics import accuracy_score\n",
    "y_pred = clf.predict(X_test)\n",
    "\n",
    "acc = accuracy_score(y_test, y_pred)\n",
    "print(\"Accuracy: {}\".format(acc))"
   ]
  },
  {
   "cell_type": "code",
   "execution_count": 6,
   "metadata": {},
   "outputs": [
    {
     "ename": "NameError",
     "evalue": "name 'clf' is not defined",
     "output_type": "error",
     "traceback": [
      "\u001b[0;31m---------------------------------------------------------------------------\u001b[0m",
      "\u001b[0;31mNameError\u001b[0m                                 Traceback (most recent call last)",
      "\u001b[0;32m<ipython-input-6-c573567809db>\u001b[0m in \u001b[0;36m<module>\u001b[0;34m\u001b[0m\n\u001b[1;32m      1\u001b[0m \u001b[0;31m# Probando la nueva funcion \"predictNewK\"\u001b[0m\u001b[0;34m\u001b[0m\u001b[0;34m\u001b[0m\u001b[0;34m\u001b[0m\u001b[0m\n\u001b[1;32m      2\u001b[0m \u001b[0;31m#%%time\u001b[0m\u001b[0;34m\u001b[0m\u001b[0;34m\u001b[0m\u001b[0;34m\u001b[0m\u001b[0m\n\u001b[0;32m----> 3\u001b[0;31m \u001b[0mprint\u001b[0m\u001b[0;34m(\u001b[0m\u001b[0mclf\u001b[0m\u001b[0;34m.\u001b[0m\u001b[0mvecinos\u001b[0m\u001b[0;34m(\u001b[0m\u001b[0;34m)\u001b[0m\u001b[0;34m)\u001b[0m\u001b[0;34m\u001b[0m\u001b[0;34m\u001b[0m\u001b[0m\n\u001b[0m\u001b[1;32m      4\u001b[0m \u001b[0my_pred\u001b[0m \u001b[0;34m=\u001b[0m \u001b[0mclf\u001b[0m\u001b[0;34m.\u001b[0m\u001b[0mpredictNewK\u001b[0m\u001b[0;34m(\u001b[0m\u001b[0;36m75\u001b[0m\u001b[0;34m)\u001b[0m\u001b[0;34m\u001b[0m\u001b[0;34m\u001b[0m\u001b[0m\n\u001b[1;32m      5\u001b[0m \u001b[0mprint\u001b[0m\u001b[0;34m(\u001b[0m\u001b[0my_pred\u001b[0m\u001b[0;34m.\u001b[0m\u001b[0mshape\u001b[0m\u001b[0;34m)\u001b[0m\u001b[0;34m\u001b[0m\u001b[0;34m\u001b[0m\u001b[0m\n",
      "\u001b[0;31mNameError\u001b[0m: name 'clf' is not defined"
     ]
    }
   ],
   "source": [
    "# Probando la nueva funcion \"predictNewK\" \n",
    "#%%time\n",
    "print(clf.vecinos())\n",
    "y_pred = clf.predictNewK(75)\n",
    "print(y_pred.shape)\n",
    "\n",
    "acc = accuracy_score(y_test, y_pred)\n",
    "print(\"Accuracy: {}\".format(acc))"
   ]
  },
  {
   "cell_type": "code",
   "execution_count": 2,
   "metadata": {},
   "outputs": [],
   "source": [
    "#Imports para los tests\n",
    "import matplotlib.pyplot as plt\n",
    "import sentiment\n",
    "import pandas as pd\n",
    "from sklearn.feature_extraction.text import CountVectorizer\n",
    "from sklearn.metrics import accuracy_score\n",
    "df = pd.read_csv(\"../data/imdb_small.csv\", index_col=0)"
   ]
  },
  {
   "cell_type": "code",
   "execution_count": 3,
   "metadata": {},
   "outputs": [],
   "source": [
    "# Funcion para randomizar un dataset\n",
    "def randomizarBase(df):\n",
    "    df = df.sample(frac=1)\n",
    "    return df"
   ]
  },
  {
   "cell_type": "code",
   "execution_count": null,
   "metadata": {},
   "outputs": [],
   "source": [
    "#TEST UMBRALES BOLSA DE PALABRAS\n",
    "\n",
    "#Usamos los k y alpha que optimizaban knn y pca\n",
    "k = 1\n",
    "alpha = 1\n",
    "\n",
    "import pandas as pd\n",
    "from sklearn.metrics import accuracy_score\n",
    "df = pd.read_csv(\"../data/imdb_small.csv\", index_col=0)\n",
    "\n",
    "from sklearn.feature_extraction.text import CountVectorizer\n",
    "from sentiment import PCA, KNNClassifier, get_first_eigenvalues\n",
    "import numpy as np\n",
    "import scipy\n",
    "import matplotlib.pyplot as plt\n",
    "borde = 9375\n",
    "text_train = df[:borde][\"review\"]\n",
    "label_train = df[:borde][\"label\"]\n",
    "\n",
    "text_test = df[borde:][\"review\"]\n",
    "label_test = df[borde:][\"label\"]\n",
    "\n",
    "print(\"Cantidad de instancias de entrenamiento = {}\".format(len(text_train)))\n",
    "print(\"Cantidad de instancias de test = {}\".format(len(text_test)))\n",
    "\n",
    "\n",
    "min_max = []\n",
    "acc = []\n",
    "ejex = []\n",
    "pruebas=[]\n",
    "for i in range (0,4):\n",
    "    vectorizer = CountVectorizer(max_df=1.0-i*0.05, min_df=0.0+i*0.005, max_features=5000)\n",
    "    vectorizer.fit(text_train)\n",
    "    X_train, y_train = vectorizer.transform(text_train), (label_train == 'pos').values\n",
    "    X_test, y_test = vectorizer.transform(text_test), (label_test == 'pos').values\n",
    "    \n",
    "    pca = PCA(alpha)\n",
    "    print(\"Alpha {}\".format(alpha))\n",
    "    print(\"Entrenando PCA\")\n",
    "\n",
    "    #print(type(X_train))\n",
    "    pca.fit(X_train.toarray())\n",
    "    #print(type(X_train))\n",
    "    X_pca_train = pca.transform(X_train)\n",
    "    #print(type(X_train))\n",
    "    X_pca_test = pca.transform(X_test)\n",
    "    \n",
    "    ## Creo y entreno\n",
    "    clf = KNNClassifier(k)\n",
    "    clf.fit(X_pca_train, y_train)\n",
    "\n",
    "    # Predigo\n",
    "    y_pred = clf.predict(X_pca_test)\n",
    "\n",
    "    # Me fijo el accuracy\n",
    "    accuracy = accuracy_score(y_test, y_pred)\n",
    "    acc.append(accuracy)\n",
    "    print(acc)\n",
    "    #print(\"k = {} alpha = {} ----> {}\".format(k, alpha, accuracy))\n",
    "\n",
    "    min_max.append((round(0.0+i*0.005,2),round(1.0-i*0.05,2)))\n",
    "    ejex.append(0.0+i*0.005)\n",
    "    pruebas.append({\n",
    "        \"max_df\": 1.0-i*0.05,\n",
    "        \"min_df\": 0.0+i*0.005,\n",
    "        \"acc\": acc,\n",
    "    })\n",
    "\n",
    "print(\"ejex: {}\".format(ejex))\n",
    "print(\"min_max: {}\".format(min_max))\n",
    "fig=plt.figure(figsize=(10, 8), dpi=80)\n",
    "plt.plot(ejex, acc, '-o')\n",
    "#plt.legend(Umbrales, loc='upper left')   #Cuadradito que indica q representa cada linea\n",
    "plt.xlabel(\"Umbrales\")\n",
    "plt.ylabel(\"Accuracy\")\n",
    "plt.xticks(ticks=ejex, labels=min_max)\n",
    "plt.title(\"Performance de clasificador en función a umbrales de la bolsa de palabras\");"
   ]
  },
  {
   "cell_type": "code",
   "execution_count": null,
   "metadata": {
    "collapsed": true
   },
   "outputs": [],
   "source": [
    "# TEST DE CAMBIO DE N_NEIGHBORS Y ALPHA \n",
    "# (es decir, el de Rodri)\n",
    "\n",
    "#SACAR ESTOS IMPORTS Y HACER Q ANDEN CON LOS DE ARRIBA\n",
    "import pandas as pd\n",
    "from sklearn.metrics import accuracy_score\n",
    "df = pd.read_csv(\"../data/imdb_small.csv\", index_col=0)\n",
    "\n",
    "from sklearn.feature_extraction.text import CountVectorizer\n",
    "from sentiment import PCA, KNNClassifier, get_first_eigenvalues\n",
    "import numpy as np\n",
    "import scipy\n",
    "import matplotlib.pyplot as plt\n",
    "\n",
    "# CAMBIAR 6225 POR 3125 (AMI) Y 9375 (JULI)\n",
    "borde = 9375\n",
    "text_train = df[:borde][\"review\"]\n",
    "label_train = df[:borde][\"label\"]\n",
    "\n",
    "text_test = df[borde:][\"review\"]\n",
    "label_test = df[borde:][\"label\"]\n",
    "\n",
    "print(\"Cantidad de instancias de entrenamiento = {}\".format(len(text_train)))\n",
    "print(\"Cantidad de instancias de test = {}\".format(len(text_test)))\n",
    "\n",
    "vectorizer = CountVectorizer(max_df=0.90, min_df=0.01, max_features=5000)\n",
    "vectorizer.fit(text_train)\n",
    "X_train, y_train = vectorizer.transform(text_train), (label_train == 'pos').values\n",
    "X_test, y_test = vectorizer.transform(text_test), (label_test == 'pos').values\n",
    "\n",
    "# Resultados en una lista por si hace falta\n",
    "pruebas = []\n",
    "\n",
    "\n",
    "alphas = list(range(100, 49, 5))\n",
    "knns = list(range(100,151,3))\n",
    "\n",
    "pca = PCA(alphas[0])\n",
    "pca.fit(X_train.toarray())\n",
    "\n",
    "for alpha in alphas:\n",
    "    print(\"Alpha {}\".format(alpha))\n",
    "    print(\"Entrenando PCA\")\n",
    "    pca.newAlpha(alpha)\n",
    "    \n",
    "    #print(type(X_train))\n",
    "    X_pca_train = pca.transform(X_train)\n",
    "    #print(type(X_train))\n",
    "    X_pca_test = pca.transform(X_test)\n",
    "    acc = []\n",
    "    \n",
    "    #Arreglar la parte de knn para que lo haga optimizado\n",
    "    for k in knns:\n",
    "        ## Creo y entreno\n",
    "        clf = KNNClassifier(k)\n",
    "        clf.fit(X_pca_train, y_train)\n",
    "\n",
    "        # Predigo\n",
    "        y_pred = clf.predict(X_pca_test)\n",
    "\n",
    "        # Me fijo el accuracy\n",
    "        accuracy = accuracy_score(y_test, y_pred)\n",
    "        acc.append(accuracy)\n",
    "        print(acc)\n",
    "        #print(\"k = {} alpha = {} ----> {}\".format(k, alpha, accuracy))\n",
    "        pruebas.append({\n",
    "            \"k\": k,\n",
    "            \"alpha\": alpha,\n",
    "            \"acc\": acc,\n",
    "        })\n",
    "    plt.plot(knns, acc, '-o')\n",
    "    print(acc)\n",
    "        \n",
    "\n",
    "plt.legend(alphas, loc='upper left')\n",
    "plt.xlabel(\"Vecinos\")\n",
    "plt.ylabel(\"Accuracy\")\n",
    "plt.xticks(knns)\n",
    "plt.title(\"Performance de clasificador en función a cantidad de vecinos y alpha\");"
   ]
  },
  {
   "cell_type": "code",
   "execution_count": null,
   "metadata": {},
   "outputs": [],
   "source": [
    "# TEST DE TAMAÑO DE INSTANCIAS DE ENTRENAMIENTO vs TEST CON KNN VARIABLE\n",
    "import sentiment\n",
    "res1 = []\n",
    "#division = list(range(9375,12500,3125)) #1/4, 1/2, 3/4 de la base se usan para train\n",
    "#rangos = [(x,12500-x) for x in division]\n",
    "#Orig: 501\n",
    "knns = list(range(80,151,5))\n",
    "knns.reverse()\n",
    "print(knns)\n",
    "division=[0]\n",
    "rangos=[(50,50)]\n",
    "\n",
    "for n in division:\n",
    "    print(\"Analizando n={}\".format(n))\n",
    "    acc = []\n",
    "    \n",
    "    #Divido train y test\n",
    "    print(\"Reordenando base y dividiendo...\")\n",
    "    df=randomizarBase(df)    # Desordenamos la base para que las distintas divisiones de train no tengan siempre los mismos primeros elementos\n",
    "    text_train = df[:50][\"review\"] #:n\n",
    "    label_train = df[:50][\"label\"] \n",
    "    text_test = df[50:101][\"review\"] #n:\n",
    "    label_test = df[50:101][\"label\"]\n",
    "    print(\"Cantidad de instancias de entrenamiento = {}\".format(len(text_train)))\n",
    "    print(\"Cantidad de instancias de test = {}\".format(len(text_test)))\n",
    "    #Hago BoW\n",
    "    print(\"Vectorizando...\")\n",
    "    vectorizer = CountVectorizer(max_df=0.90, min_df=0.01, max_features=5000)\n",
    "    vectorizer.fit(text_train)\n",
    "    X_train, y_train = vectorizer.transform(text_train), (label_train == 'pos').values\n",
    "    X_test, y_test = vectorizer.transform(text_test), (label_test == 'pos').values\n",
    "\n",
    "    #Aplico KNN\n",
    "    print(\"Para {} vecinos\".format(knns[0]))        \n",
    "    clf = sentiment.KNNClassifier(knns[0])\n",
    "    print(\"Hago fit...\")\n",
    "    clf.fit(X_train, y_train)\n",
    "    #Predigo\n",
    "    print(\"Predigo...\")\n",
    "    print(X_test.shape)\n",
    "    y_pred = clf.predict(X_test)\n",
    "    '''\n",
    "    #Calculo accuracy y guardo resultado\n",
    "    acc.append(accuracy_score(y_test, y_pred))\n",
    "    \n",
    "    print(\"Accuracy: {}\".format(acc))\n",
    "    for k in knns[1:]:\n",
    "        print(\"Para {} vecinos\".format(k))        \n",
    "        #Predigo\n",
    "        print(\"Predigo...\")\n",
    "        y_pred = clf.predictNewK(k)\n",
    "        #Calculo accuracy y guardo resultado\n",
    "        acc.append(accuracy_score(y_test, y_pred))\n",
    "        print(\"Accuracy: {}\".format(acc))\n",
    "    plt.plot(knns, acc, '-o')\n",
    "\n",
    "plt.legend(rangos, loc='upper left')\n",
    "plt.xlabel(\"Vecinos\")\n",
    "plt.ylabel(\"Accuracy\")\n",
    "plt.xticks(knns)\n",
    "plt.title(\"Performance de clasificador en función de tamaño de la base de entrenamiento\");\n",
    "'''"
   ]
  },
  {
   "cell_type": "code",
   "execution_count": null,
   "metadata": {},
   "outputs": [],
   "source": []
  }
 ],
 "metadata": {
  "kernelspec": {
   "display_name": "Python 3",
   "language": "python",
   "name": "python3"
  },
  "language_info": {
   "codemirror_mode": {
    "name": "ipython",
    "version": 3
   },
   "file_extension": ".py",
   "mimetype": "text/x-python",
   "name": "python",
   "nbconvert_exporter": "python",
   "pygments_lexer": "ipython3",
   "version": "3.6.8"
  }
 },
 "nbformat": 4,
 "nbformat_minor": 2
}
